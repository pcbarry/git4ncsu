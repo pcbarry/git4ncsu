{
 "cells": [
  {
   "cell_type": "code",
   "execution_count": null,
   "metadata": {},
   "outputs": [],
   "source": [
    "import random\n",
    "import numpy as np\n",
    "import matplotlib.pyplot as plt\n",
    "import tensorflow as tf\n",
    "import keras\n",
    "from keras.models import Sequential,Model\n",
    "from keras.layers import Dense,Activation,Dropout,Input, BatchNormalization\n",
    "from keras.optimizers import Adam\n",
    "import matplotlib.pyplot as plt\n",
    "import warnings\n",
    "warnings.filterwarnings(\"ignore\")\n",
    "from sklearn.metrics import mean_squared_error\n",
    "from sklearn.preprocessing import StandardScaler\n",
    "from sklearn.preprocessing import MinMaxScaler\n",
    "from sklearn.preprocessing import RobustScaler\n",
    "from sklearn.model_selection import train_test_split\n",
    "%matplotlib inline\n",
    "\n",
    "import os\n",
    "# os.environ[\"CUDA_VISIBLE_DEVICES\"]=\"3\""
   ]
  },
  {
   "cell_type": "code",
   "execution_count": null,
   "metadata": {},
   "outputs": [],
   "source": [
    "# Get random dataset\n",
    "def get_dataset(data_size, num_features):\n",
    "    X = np.random.random((data_size, num_features))\n",
    "    y = (np.power(X[:,0], 2)    +\n",
    "        (0.5 * np.sqrt(X[:,1])) +\n",
    "        (0.33 * np.power(X[:,2], 3)))\n",
    "    y = y + 0.05 * np.random.randn(data_size)\n",
    "    return X, y "
   ]
  },
  {
   "cell_type": "code",
   "execution_count": null,
   "metadata": {},
   "outputs": [],
   "source": [
    "# Define the model\n",
    "def MODEL(X_train, y_train, EPOCHS, BATCH_SIZE, lr):\n",
    "    input=Input(shape= X_train[0].shape)\n",
    "    x=Dense(120, activation='relu')(input)\n",
    "    x = Dropout(0.01)(x)\n",
    "    x=Dense(120, activation='relu')(x)\n",
    "    x = Dropout(0.01)(x)\n",
    "    x=Dense(120, activation='relu')(x)\n",
    "    x = Dropout(0.01)(x)\n",
    "    output=Dense(1)(x) #--this argument of Dense() corresponds to the number of outputs\n",
    "    model=Model(input,output)\n",
    "    model.summary()\n",
    "    model_optimizer=Adam(lr=lr, beta_1=0.9, beta_2=0.999, epsilon=1e-08, decay=0.00001) \n",
    "    model.compile(optimizer=model_optimizer,loss='mean_squared_error')\n",
    "    history = model.fit(X_train, y_train, batch_size=BATCH_SIZE, epochs=EPOCHS, validation_split=0.2, verbose=1)\n",
    "    return model, history"
   ]
  },
  {
   "cell_type": "code",
   "execution_count": null,
   "metadata": {},
   "outputs": [],
   "source": [
    "if __name__ == \"__main__\":\n",
    "    \n",
    "    X,y = get_dataset(10000, 4)\n",
    "    \n",
    "    # Split the data into training and test set\n",
    "    X_train, X_test, y_train, y_test = train_test_split(X, y, test_size= 0.2, random_state=0)\n",
    "    \n",
    "    # Normalize the label\n",
    "    sc2 = MinMaxScaler()  \n",
    "    y_train = sc2.fit_transform(y_train.reshape(-1,1))\n",
    "    y_test = sc2.transform(y_test.reshape(-1,1))\n",
    "    \n",
    "    # Train the model\n",
    "    model, history = MODEL(X_train, y_train, EPOCHS = 50, BATCH_SIZE = 32, lr = 0.0001)\n"
   ]
  },
  {
   "cell_type": "code",
   "execution_count": null,
   "metadata": {
    "scrolled": true
   },
   "outputs": [],
   "source": [
    "y_pred = model.predict(X_test)\n",
    "plt.scatter(y_test, y_pred)\n",
    "plt.plot(y_test, y_test, color = 'orange')\n",
    "plt.legend([\"True\", \"Predicted\"])\n",
    "plt.show()"
   ]
  },
  {
   "cell_type": "code",
   "execution_count": null,
   "metadata": {},
   "outputs": [],
   "source": [
    "# plot loss for training and validation\n",
    "def plot_loss(history):\n",
    "    plt.plot(history.history['loss'])\n",
    "    plt.plot(history.history['val_loss'])\n",
    "    plt.title('Model Loss')\n",
    "    plt.ylabel('loss')\n",
    "    plt.xlabel('epoch')\n",
    "    plt.legend(['train', 'validation'], loc='upper left')\n",
    "    #plt.savefig(\"loss.png\")"
   ]
  },
  {
   "cell_type": "code",
   "execution_count": null,
   "metadata": {},
   "outputs": [],
   "source": [
    "plot_loss(history)"
   ]
  }
 ],
 "metadata": {
  "kernelspec": {
   "display_name": "Python 2",
   "language": "python",
   "name": "python2"
  },
  "language_info": {
   "codemirror_mode": {
    "name": "ipython",
    "version": 2
   },
   "file_extension": ".py",
   "mimetype": "text/x-python",
   "name": "python",
   "nbconvert_exporter": "python",
   "pygments_lexer": "ipython2",
   "version": "2.7.16"
  }
 },
 "nbformat": 4,
 "nbformat_minor": 2
}
